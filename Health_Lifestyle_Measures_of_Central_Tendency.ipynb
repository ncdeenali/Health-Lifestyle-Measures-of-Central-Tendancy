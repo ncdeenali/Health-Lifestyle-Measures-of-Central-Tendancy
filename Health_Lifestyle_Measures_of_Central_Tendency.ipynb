{
  "nbformat": 4,
  "nbformat_minor": 0,
  "metadata": {
    "colab": {
      "provenance": []
    },
    "kernelspec": {
      "name": "python3",
      "display_name": "Python 3"
    },
    "language_info": {
      "name": "python"
    }
  },
  "cells": [
    {
      "cell_type": "markdown",
      "source": [
        "The Health and Lifestyle Survey conducted by XYZ Corp collected a comprehensive dataset from 4,200 participants to analyze health behaviors and lifestyle choice patterns. The survey aimed to understand correlations between physical activity, dietary habits, sleep quality, stress levels, and overall health assessments among diverse individuals. This analysis will use measures of central tendency and measures of Dispersion to summarize and interpret the dataset, providing insights into the general health trends within the population.\n",
        "\n",
        "The dataset contains the following features:\n",
        "\n",
        "* **Participant ID**: a Unique identifier for each participant.\n",
        "* **Physical Activity (hours/week)**: Represents the average number of hours the participant engages in weekly physical activity.\n",
        "* **Fruits/Veg Servings (servings/day)**: Represents the average number of servings of fruits and vegetables the participant consumes daily.\n",
        "* **Sleep Quality (score)**: Participants rated their average sleep quality on a scale from 1 (poor) to 10 (excellent).\n",
        "* **Stress Level (score)**: Participants rated their average stress level on a scale from 1 (low) to 10 (high).\n",
        "* **Overall Health (score)**: Participant's overall self-assessment of their health on a scale from 1 (poor) to 10 (excellent).\n",
        "* **Diet Type:** Represents the type of diet the participant follows { 'Vegetarian', 'Vegan', 'Meat-Eater', 'Pescatarian', 'Flexitarian' }.\n",
        "* **Exercise Type Preferred:** Represents the main type of physical activity the participant engages in { 'Cardio', 'Strength Training', 'Yoga/Pilates', 'Sports', 'None'}\n",
        "* **Work Environment:** Represents the type of work environment of the participant. {'Office', 'Remote', 'Fieldwork', 'Mixed', 'Student'.}\n",
        "* **Living Area:** Represents the type of area the participant lives in { 'Urban', 'Suburban', 'Rural'}\n"
      ],
      "metadata": {
        "id": "2r2iL96olzT6"
      }
    },
    {
      "cell_type": "markdown",
      "source": [
        "### **Q1: Load the Health and Lifestyle Survey dataset from \"health_lifestyle.csv\"**"
      ],
      "metadata": {
        "id": "8fSpRFhQhL4V"
      }
    },
    {
      "cell_type": "code",
      "source": [
        "from google.colab import drive\n",
        "drive.mount('/content/drive')"
      ],
      "metadata": {
        "colab": {
          "base_uri": "https://localhost:8080/"
        },
        "id": "8vCW3NIN_7kQ",
        "outputId": "0a9b5315-0038-4f9c-af01-c887922bc810"
      },
      "execution_count": null,
      "outputs": [
        {
          "output_type": "stream",
          "name": "stdout",
          "text": [
            "Mounted at /content/drive\n"
          ]
        }
      ]
    },
    {
      "cell_type": "code",
      "execution_count": null,
      "metadata": {
        "id": "ReicG1wChLGb",
        "colab": {
          "base_uri": "https://localhost:8080/",
          "height": 295
        },
        "outputId": "abe1eab7-d760-4847-9620-504e51721ec4"
      },
      "outputs": [
        {
          "output_type": "execute_result",
          "data": {
            "text/plain": [
              "   Participant ID  Physical Activity  Fruits/Veg Servings  Sleep Quality  \\\n",
              "0               1               4.37                 8.65              9   \n",
              "1               2               9.56                 2.77              2   \n",
              "2               3               7.59                 2.13              5   \n",
              "3               4               6.39                 9.67              9   \n",
              "4               5               2.40                 1.97              2   \n",
              "\n",
              "   Stress Level  Overall Health    Diet Type Exercise Type Preferred  \\\n",
              "0             9               2  Pescatarian       Strength Training   \n",
              "1             3               9   Meat-Eater                  Sports   \n",
              "2             4               8   Vegetarian                  Sports   \n",
              "3             5               5  Pescatarian       Strength Training   \n",
              "4            10               1  Pescatarian                    None   \n",
              "\n",
              "  Work Environment Living Area  \n",
              "0            Mixed    Suburban  \n",
              "1            Mixed    Suburban  \n",
              "2            Mixed       Rural  \n",
              "3           Remote    Suburban  \n",
              "4        Fieldwork    Suburban  "
            ],
            "text/html": [
              "\n",
              "  <div id=\"df-c293e89c-ef45-429f-9709-0a022efcb70e\" class=\"colab-df-container\">\n",
              "    <div>\n",
              "<style scoped>\n",
              "    .dataframe tbody tr th:only-of-type {\n",
              "        vertical-align: middle;\n",
              "    }\n",
              "\n",
              "    .dataframe tbody tr th {\n",
              "        vertical-align: top;\n",
              "    }\n",
              "\n",
              "    .dataframe thead th {\n",
              "        text-align: right;\n",
              "    }\n",
              "</style>\n",
              "<table border=\"1\" class=\"dataframe\">\n",
              "  <thead>\n",
              "    <tr style=\"text-align: right;\">\n",
              "      <th></th>\n",
              "      <th>Participant ID</th>\n",
              "      <th>Physical Activity</th>\n",
              "      <th>Fruits/Veg Servings</th>\n",
              "      <th>Sleep Quality</th>\n",
              "      <th>Stress Level</th>\n",
              "      <th>Overall Health</th>\n",
              "      <th>Diet Type</th>\n",
              "      <th>Exercise Type Preferred</th>\n",
              "      <th>Work Environment</th>\n",
              "      <th>Living Area</th>\n",
              "    </tr>\n",
              "  </thead>\n",
              "  <tbody>\n",
              "    <tr>\n",
              "      <th>0</th>\n",
              "      <td>1</td>\n",
              "      <td>4.37</td>\n",
              "      <td>8.65</td>\n",
              "      <td>9</td>\n",
              "      <td>9</td>\n",
              "      <td>2</td>\n",
              "      <td>Pescatarian</td>\n",
              "      <td>Strength Training</td>\n",
              "      <td>Mixed</td>\n",
              "      <td>Suburban</td>\n",
              "    </tr>\n",
              "    <tr>\n",
              "      <th>1</th>\n",
              "      <td>2</td>\n",
              "      <td>9.56</td>\n",
              "      <td>2.77</td>\n",
              "      <td>2</td>\n",
              "      <td>3</td>\n",
              "      <td>9</td>\n",
              "      <td>Meat-Eater</td>\n",
              "      <td>Sports</td>\n",
              "      <td>Mixed</td>\n",
              "      <td>Suburban</td>\n",
              "    </tr>\n",
              "    <tr>\n",
              "      <th>2</th>\n",
              "      <td>3</td>\n",
              "      <td>7.59</td>\n",
              "      <td>2.13</td>\n",
              "      <td>5</td>\n",
              "      <td>4</td>\n",
              "      <td>8</td>\n",
              "      <td>Vegetarian</td>\n",
              "      <td>Sports</td>\n",
              "      <td>Mixed</td>\n",
              "      <td>Rural</td>\n",
              "    </tr>\n",
              "    <tr>\n",
              "      <th>3</th>\n",
              "      <td>4</td>\n",
              "      <td>6.39</td>\n",
              "      <td>9.67</td>\n",
              "      <td>9</td>\n",
              "      <td>5</td>\n",
              "      <td>5</td>\n",
              "      <td>Pescatarian</td>\n",
              "      <td>Strength Training</td>\n",
              "      <td>Remote</td>\n",
              "      <td>Suburban</td>\n",
              "    </tr>\n",
              "    <tr>\n",
              "      <th>4</th>\n",
              "      <td>5</td>\n",
              "      <td>2.40</td>\n",
              "      <td>1.97</td>\n",
              "      <td>2</td>\n",
              "      <td>10</td>\n",
              "      <td>1</td>\n",
              "      <td>Pescatarian</td>\n",
              "      <td>None</td>\n",
              "      <td>Fieldwork</td>\n",
              "      <td>Suburban</td>\n",
              "    </tr>\n",
              "  </tbody>\n",
              "</table>\n",
              "</div>\n",
              "    <div class=\"colab-df-buttons\">\n",
              "\n",
              "  <div class=\"colab-df-container\">\n",
              "    <button class=\"colab-df-convert\" onclick=\"convertToInteractive('df-c293e89c-ef45-429f-9709-0a022efcb70e')\"\n",
              "            title=\"Convert this dataframe to an interactive table.\"\n",
              "            style=\"display:none;\">\n",
              "\n",
              "  <svg xmlns=\"http://www.w3.org/2000/svg\" height=\"24px\" viewBox=\"0 -960 960 960\">\n",
              "    <path d=\"M120-120v-720h720v720H120Zm60-500h600v-160H180v160Zm220 220h160v-160H400v160Zm0 220h160v-160H400v160ZM180-400h160v-160H180v160Zm440 0h160v-160H620v160ZM180-180h160v-160H180v160Zm440 0h160v-160H620v160Z\"/>\n",
              "  </svg>\n",
              "    </button>\n",
              "\n",
              "  <style>\n",
              "    .colab-df-container {\n",
              "      display:flex;\n",
              "      gap: 12px;\n",
              "    }\n",
              "\n",
              "    .colab-df-convert {\n",
              "      background-color: #E8F0FE;\n",
              "      border: none;\n",
              "      border-radius: 50%;\n",
              "      cursor: pointer;\n",
              "      display: none;\n",
              "      fill: #1967D2;\n",
              "      height: 32px;\n",
              "      padding: 0 0 0 0;\n",
              "      width: 32px;\n",
              "    }\n",
              "\n",
              "    .colab-df-convert:hover {\n",
              "      background-color: #E2EBFA;\n",
              "      box-shadow: 0px 1px 2px rgba(60, 64, 67, 0.3), 0px 1px 3px 1px rgba(60, 64, 67, 0.15);\n",
              "      fill: #174EA6;\n",
              "    }\n",
              "\n",
              "    .colab-df-buttons div {\n",
              "      margin-bottom: 4px;\n",
              "    }\n",
              "\n",
              "    [theme=dark] .colab-df-convert {\n",
              "      background-color: #3B4455;\n",
              "      fill: #D2E3FC;\n",
              "    }\n",
              "\n",
              "    [theme=dark] .colab-df-convert:hover {\n",
              "      background-color: #434B5C;\n",
              "      box-shadow: 0px 1px 3px 1px rgba(0, 0, 0, 0.15);\n",
              "      filter: drop-shadow(0px 1px 2px rgba(0, 0, 0, 0.3));\n",
              "      fill: #FFFFFF;\n",
              "    }\n",
              "  </style>\n",
              "\n",
              "    <script>\n",
              "      const buttonEl =\n",
              "        document.querySelector('#df-c293e89c-ef45-429f-9709-0a022efcb70e button.colab-df-convert');\n",
              "      buttonEl.style.display =\n",
              "        google.colab.kernel.accessAllowed ? 'block' : 'none';\n",
              "\n",
              "      async function convertToInteractive(key) {\n",
              "        const element = document.querySelector('#df-c293e89c-ef45-429f-9709-0a022efcb70e');\n",
              "        const dataTable =\n",
              "          await google.colab.kernel.invokeFunction('convertToInteractive',\n",
              "                                                    [key], {});\n",
              "        if (!dataTable) return;\n",
              "\n",
              "        const docLinkHtml = 'Like what you see? Visit the ' +\n",
              "          '<a target=\"_blank\" href=https://colab.research.google.com/notebooks/data_table.ipynb>data table notebook</a>'\n",
              "          + ' to learn more about interactive tables.';\n",
              "        element.innerHTML = '';\n",
              "        dataTable['output_type'] = 'display_data';\n",
              "        await google.colab.output.renderOutput(dataTable, element);\n",
              "        const docLink = document.createElement('div');\n",
              "        docLink.innerHTML = docLinkHtml;\n",
              "        element.appendChild(docLink);\n",
              "      }\n",
              "    </script>\n",
              "  </div>\n",
              "\n",
              "\n",
              "<div id=\"df-02f77dff-76e9-42b0-888c-53684565d3d6\">\n",
              "  <button class=\"colab-df-quickchart\" onclick=\"quickchart('df-02f77dff-76e9-42b0-888c-53684565d3d6')\"\n",
              "            title=\"Suggest charts\"\n",
              "            style=\"display:none;\">\n",
              "\n",
              "<svg xmlns=\"http://www.w3.org/2000/svg\" height=\"24px\"viewBox=\"0 0 24 24\"\n",
              "     width=\"24px\">\n",
              "    <g>\n",
              "        <path d=\"M19 3H5c-1.1 0-2 .9-2 2v14c0 1.1.9 2 2 2h14c1.1 0 2-.9 2-2V5c0-1.1-.9-2-2-2zM9 17H7v-7h2v7zm4 0h-2V7h2v10zm4 0h-2v-4h2v4z\"/>\n",
              "    </g>\n",
              "</svg>\n",
              "  </button>\n",
              "\n",
              "<style>\n",
              "  .colab-df-quickchart {\n",
              "      --bg-color: #E8F0FE;\n",
              "      --fill-color: #1967D2;\n",
              "      --hover-bg-color: #E2EBFA;\n",
              "      --hover-fill-color: #174EA6;\n",
              "      --disabled-fill-color: #AAA;\n",
              "      --disabled-bg-color: #DDD;\n",
              "  }\n",
              "\n",
              "  [theme=dark] .colab-df-quickchart {\n",
              "      --bg-color: #3B4455;\n",
              "      --fill-color: #D2E3FC;\n",
              "      --hover-bg-color: #434B5C;\n",
              "      --hover-fill-color: #FFFFFF;\n",
              "      --disabled-bg-color: #3B4455;\n",
              "      --disabled-fill-color: #666;\n",
              "  }\n",
              "\n",
              "  .colab-df-quickchart {\n",
              "    background-color: var(--bg-color);\n",
              "    border: none;\n",
              "    border-radius: 50%;\n",
              "    cursor: pointer;\n",
              "    display: none;\n",
              "    fill: var(--fill-color);\n",
              "    height: 32px;\n",
              "    padding: 0;\n",
              "    width: 32px;\n",
              "  }\n",
              "\n",
              "  .colab-df-quickchart:hover {\n",
              "    background-color: var(--hover-bg-color);\n",
              "    box-shadow: 0 1px 2px rgba(60, 64, 67, 0.3), 0 1px 3px 1px rgba(60, 64, 67, 0.15);\n",
              "    fill: var(--button-hover-fill-color);\n",
              "  }\n",
              "\n",
              "  .colab-df-quickchart-complete:disabled,\n",
              "  .colab-df-quickchart-complete:disabled:hover {\n",
              "    background-color: var(--disabled-bg-color);\n",
              "    fill: var(--disabled-fill-color);\n",
              "    box-shadow: none;\n",
              "  }\n",
              "\n",
              "  .colab-df-spinner {\n",
              "    border: 2px solid var(--fill-color);\n",
              "    border-color: transparent;\n",
              "    border-bottom-color: var(--fill-color);\n",
              "    animation:\n",
              "      spin 1s steps(1) infinite;\n",
              "  }\n",
              "\n",
              "  @keyframes spin {\n",
              "    0% {\n",
              "      border-color: transparent;\n",
              "      border-bottom-color: var(--fill-color);\n",
              "      border-left-color: var(--fill-color);\n",
              "    }\n",
              "    20% {\n",
              "      border-color: transparent;\n",
              "      border-left-color: var(--fill-color);\n",
              "      border-top-color: var(--fill-color);\n",
              "    }\n",
              "    30% {\n",
              "      border-color: transparent;\n",
              "      border-left-color: var(--fill-color);\n",
              "      border-top-color: var(--fill-color);\n",
              "      border-right-color: var(--fill-color);\n",
              "    }\n",
              "    40% {\n",
              "      border-color: transparent;\n",
              "      border-right-color: var(--fill-color);\n",
              "      border-top-color: var(--fill-color);\n",
              "    }\n",
              "    60% {\n",
              "      border-color: transparent;\n",
              "      border-right-color: var(--fill-color);\n",
              "    }\n",
              "    80% {\n",
              "      border-color: transparent;\n",
              "      border-right-color: var(--fill-color);\n",
              "      border-bottom-color: var(--fill-color);\n",
              "    }\n",
              "    90% {\n",
              "      border-color: transparent;\n",
              "      border-bottom-color: var(--fill-color);\n",
              "    }\n",
              "  }\n",
              "</style>\n",
              "\n",
              "  <script>\n",
              "    async function quickchart(key) {\n",
              "      const quickchartButtonEl =\n",
              "        document.querySelector('#' + key + ' button');\n",
              "      quickchartButtonEl.disabled = true;  // To prevent multiple clicks.\n",
              "      quickchartButtonEl.classList.add('colab-df-spinner');\n",
              "      try {\n",
              "        const charts = await google.colab.kernel.invokeFunction(\n",
              "            'suggestCharts', [key], {});\n",
              "      } catch (error) {\n",
              "        console.error('Error during call to suggestCharts:', error);\n",
              "      }\n",
              "      quickchartButtonEl.classList.remove('colab-df-spinner');\n",
              "      quickchartButtonEl.classList.add('colab-df-quickchart-complete');\n",
              "    }\n",
              "    (() => {\n",
              "      let quickchartButtonEl =\n",
              "        document.querySelector('#df-02f77dff-76e9-42b0-888c-53684565d3d6 button');\n",
              "      quickchartButtonEl.style.display =\n",
              "        google.colab.kernel.accessAllowed ? 'block' : 'none';\n",
              "    })();\n",
              "  </script>\n",
              "</div>\n",
              "\n",
              "    </div>\n",
              "  </div>\n"
            ],
            "application/vnd.google.colaboratory.intrinsic+json": {
              "type": "dataframe",
              "variable_name": "df",
              "summary": "{\n  \"name\": \"df\",\n  \"rows\": 4200,\n  \"fields\": [\n    {\n      \"column\": \"Participant ID\",\n      \"properties\": {\n        \"dtype\": \"number\",\n        \"std\": 1212,\n        \"min\": 1,\n        \"max\": 4200,\n        \"num_unique_values\": 4200,\n        \"samples\": [\n          1744,\n          2197,\n          1729\n        ],\n        \"semantic_type\": \"\",\n        \"description\": \"\"\n      }\n    },\n    {\n      \"column\": \"Physical Activity\",\n      \"properties\": {\n        \"dtype\": \"number\",\n        \"std\": 2.6104662069302065,\n        \"min\": 1.0,\n        \"max\": 10.0,\n        \"num_unique_values\": 893,\n        \"samples\": [\n          2.82,\n          2.09,\n          4.61\n        ],\n        \"semantic_type\": \"\",\n        \"description\": \"\"\n      }\n    },\n    {\n      \"column\": \"Fruits/Veg Servings\",\n      \"properties\": {\n        \"dtype\": \"number\",\n        \"std\": 2.586239021063829,\n        \"min\": 1.0,\n        \"max\": 10.0,\n        \"num_unique_values\": 898,\n        \"samples\": [\n          1.98,\n          9.34,\n          7.76\n        ],\n        \"semantic_type\": \"\",\n        \"description\": \"\"\n      }\n    },\n    {\n      \"column\": \"Sleep Quality\",\n      \"properties\": {\n        \"dtype\": \"number\",\n        \"std\": 2,\n        \"min\": 1,\n        \"max\": 10,\n        \"num_unique_values\": 10,\n        \"samples\": [\n          6,\n          2,\n          3\n        ],\n        \"semantic_type\": \"\",\n        \"description\": \"\"\n      }\n    },\n    {\n      \"column\": \"Stress Level\",\n      \"properties\": {\n        \"dtype\": \"number\",\n        \"std\": 2,\n        \"min\": 1,\n        \"max\": 10,\n        \"num_unique_values\": 10,\n        \"samples\": [\n          1,\n          3,\n          6\n        ],\n        \"semantic_type\": \"\",\n        \"description\": \"\"\n      }\n    },\n    {\n      \"column\": \"Overall Health\",\n      \"properties\": {\n        \"dtype\": \"number\",\n        \"std\": 2,\n        \"min\": 1,\n        \"max\": 10,\n        \"num_unique_values\": 10,\n        \"samples\": [\n          4,\n          9,\n          10\n        ],\n        \"semantic_type\": \"\",\n        \"description\": \"\"\n      }\n    },\n    {\n      \"column\": \"Diet Type\",\n      \"properties\": {\n        \"dtype\": \"category\",\n        \"num_unique_values\": 5,\n        \"samples\": [\n          \"Meat-Eater\",\n          \"Flexitarian\",\n          \"Vegetarian\"\n        ],\n        \"semantic_type\": \"\",\n        \"description\": \"\"\n      }\n    },\n    {\n      \"column\": \"Exercise Type Preferred\",\n      \"properties\": {\n        \"dtype\": \"category\",\n        \"num_unique_values\": 5,\n        \"samples\": [\n          \"Sports\",\n          \"Yoga/Pilates\",\n          \"None\"\n        ],\n        \"semantic_type\": \"\",\n        \"description\": \"\"\n      }\n    },\n    {\n      \"column\": \"Work Environment\",\n      \"properties\": {\n        \"dtype\": \"category\",\n        \"num_unique_values\": 5,\n        \"samples\": [\n          \"Remote\",\n          \"Office\",\n          \"Fieldwork\"\n        ],\n        \"semantic_type\": \"\",\n        \"description\": \"\"\n      }\n    },\n    {\n      \"column\": \"Living Area\",\n      \"properties\": {\n        \"dtype\": \"category\",\n        \"num_unique_values\": 3,\n        \"samples\": [\n          \"Suburban\",\n          \"Rural\",\n          \"Urban\"\n        ],\n        \"semantic_type\": \"\",\n        \"description\": \"\"\n      }\n    }\n  ]\n}"
            }
          },
          "metadata": {},
          "execution_count": 3
        }
      ],
      "source": [
        "import pandas as pd\n",
        "\n",
        "df = pd.read_csv('/content/drive/MyDrive/Colab Notebooks/HealthLifestyle.csv')\n",
        "df.head(5)"
      ]
    },
    {
      "cell_type": "markdown",
      "source": [
        "### **Q2: Calculate the mean and median of the \"Physical Activity (hours/week)\" column**"
      ],
      "metadata": {
        "id": "ZNooeZGchaey"
      }
    },
    {
      "cell_type": "code",
      "source": [
        "physical_mean = df['Physical Activity'].mean()\n",
        "physical_median = df['Physical Activity'].median()\n",
        "\n",
        "print(f'Mean of Physical Activity (hours/week): {physical_mean}\\n\\\n",
        "Median of Physical Activity (hours/week): {physical_median}')"
      ],
      "metadata": {
        "colab": {
          "base_uri": "https://localhost:8080/"
        },
        "id": "nhvNszf7AcT3",
        "outputId": "27e3b46b-8f17-4291-dea2-3e2cddf5f22c"
      },
      "execution_count": null,
      "outputs": [
        {
          "output_type": "stream",
          "name": "stdout",
          "text": [
            "Mean of Physical Activity (hours/week): 5.475707142857143\n",
            "Median of Physical Activity (hours/week): 5.51\n"
          ]
        }
      ]
    },
    {
      "cell_type": "code",
      "source": [],
      "metadata": {
        "colab": {
          "base_uri": "https://localhost:8080/"
        },
        "id": "KAYgzDw1hbfU",
        "outputId": "03a1f0ec-db44-4fc0-be3a-9b6b4323f4dd"
      },
      "execution_count": null,
      "outputs": [
        {
          "output_type": "stream",
          "name": "stdout",
          "text": [
            "Mean of Physical Activity (hours/week): 5.475707142857143\n",
            "Median of Physical Activity (hours/week): 5.51\n"
          ]
        }
      ]
    },
    {
      "cell_type": "markdown",
      "source": [
        "### **Q3: Calculate the mean and median of the \"Fruits/Veg Servings (servings/day)\" column**"
      ],
      "metadata": {
        "id": "BpppGlSEhbuM"
      }
    },
    {
      "cell_type": "code",
      "source": [
        "servings_mean = df['Fruits/Veg Servings'].mean()\n",
        "servings_median = df['Fruits/Veg Servings'].median()\n",
        "\n",
        "print(f'Mean of Fruits/Veg Servings (servings/day): {servings_mean}\\n\\\n",
        "Median of Fruits/Veg Servings (servings/day): {servings_median}')"
      ],
      "metadata": {
        "colab": {
          "base_uri": "https://localhost:8080/"
        },
        "id": "E7-H2HcqA7qP",
        "outputId": "83e89f06-59ce-4eaf-908b-cb2a200e8151"
      },
      "execution_count": null,
      "outputs": [
        {
          "output_type": "stream",
          "name": "stdout",
          "text": [
            "Mean of Fruits/Veg Servings (servings/day): 5.426183333333333\n",
            "Median of Fruits/Veg Servings (servings/day): 5.37\n"
          ]
        }
      ]
    },
    {
      "cell_type": "code",
      "source": [],
      "metadata": {
        "colab": {
          "base_uri": "https://localhost:8080/"
        },
        "id": "-oORfVmBhr27",
        "outputId": "ba676048-4886-437d-9f70-cbfc46939bba"
      },
      "execution_count": null,
      "outputs": [
        {
          "output_type": "stream",
          "name": "stdout",
          "text": [
            "Mean of Fruits/Veg Servings (servings/day): 5.426183333333333\n",
            "Median of Fruits/Veg Servings (servings/day): 5.37\n"
          ]
        }
      ]
    },
    {
      "cell_type": "markdown",
      "source": [
        "### **Q4: Identify the mode of the \"Diet Type\", \"Exercise Type Preferred\", \"Work Environment\", and \"Living Area\" columns?**"
      ],
      "metadata": {
        "id": "CreWpi95hsOu"
      }
    },
    {
      "cell_type": "code",
      "source": [
        "diet_mode = df['Diet Type'].mode()[0]\n",
        "exercise_mode = df['Exercise Type Preferred'].mode()[0]\n",
        "work_mode = df['Work Environment'].mode()[0]\n",
        "area_mode = df['Living Area'].mode()[0]"
      ],
      "metadata": {
        "id": "8QVmDsDfBZhF"
      },
      "execution_count": null,
      "outputs": []
    },
    {
      "cell_type": "code",
      "source": [
        "print(f'Mode of Diet Type: {diet_mode}\\n\\\n",
        "Mode of Exercise Type Preferred: {exercise_mode}\\n\\\n",
        "Mode of Work Environment: {work_mode}\\n\\\n",
        "Mode of Living Area: {area_mode}')"
      ],
      "metadata": {
        "colab": {
          "base_uri": "https://localhost:8080/"
        },
        "id": "RQBZNbuvCaqs",
        "outputId": "776e23ac-d334-431a-a249-39ee7293524f"
      },
      "execution_count": null,
      "outputs": [
        {
          "output_type": "stream",
          "name": "stdout",
          "text": [
            "Mode of Diet Type: Vegan\n",
            "Mode of Exercise Type Preferred: None\n",
            "Mode of Work Environment: Student\n",
            "Mode of Living Area: Rural\n"
          ]
        }
      ]
    },
    {
      "cell_type": "code",
      "source": [],
      "metadata": {
        "id": "IM4OinNdBZF9"
      },
      "execution_count": null,
      "outputs": []
    },
    {
      "cell_type": "code",
      "source": [],
      "metadata": {
        "id": "kc5ccwiqBUIi"
      },
      "execution_count": null,
      "outputs": []
    },
    {
      "cell_type": "code",
      "source": [],
      "metadata": {
        "colab": {
          "base_uri": "https://localhost:8080/"
        },
        "id": "NBkTNmwEh7HC",
        "outputId": "11310116-6a94-4081-e0ed-024aa89f6b74"
      },
      "execution_count": null,
      "outputs": [
        {
          "output_type": "stream",
          "name": "stdout",
          "text": [
            "Mode of Diet Type: Vegan\n",
            "Mode of Exercise Type Preferred: None\n",
            "Mode of Work Environment: Student\n",
            "Mode of Living Area: Rural\n"
          ]
        }
      ]
    },
    {
      "cell_type": "markdown",
      "source": [
        "### **Q5: Calculate the range, variance, and standard deviation for the \"Physical Activity (hours/week)\" column. Discuss what these measures tell you about participants' variability in physical activity levels**"
      ],
      "metadata": {
        "id": "JRdOmJD3jjxe"
      }
    },
    {
      "cell_type": "code",
      "source": [
        "physical_range = df['Physical Activity'].max() - df['Physical Activity'].min()\n",
        "physical_var = df['Physical Activity'].var()\n",
        "physical_std = df['Physical Activity'].std()"
      ],
      "metadata": {
        "id": "nX5W9L8WCc-e"
      },
      "execution_count": null,
      "outputs": []
    },
    {
      "cell_type": "code",
      "source": [
        "print(f'Range of Physical Activity (hours/week): {physical_range}\\n\\\n",
        "Variance of Physical Activity (hours/week): {physical_var}\\n\\\n",
        "Standard Deviation of Physical Activity (hours/week): {physical_std}')"
      ],
      "metadata": {
        "colab": {
          "base_uri": "https://localhost:8080/"
        },
        "id": "YZO60agrDFfc",
        "outputId": "04cd3ad9-adda-4078-d827-d25222c54206"
      },
      "execution_count": null,
      "outputs": [
        {
          "output_type": "stream",
          "name": "stdout",
          "text": [
            "Range of Physical Activity (hours/week): 9.0\n",
            "Variance of Physical Activity (hours/week): 6.81453381752458\n",
            "Standard Deviation of Physical Activity (hours/week): 2.6104662069302065\n"
          ]
        }
      ]
    },
    {
      "cell_type": "code",
      "source": [],
      "metadata": {
        "colab": {
          "base_uri": "https://localhost:8080/"
        },
        "id": "43Lh2HlVjkqV",
        "outputId": "1da79921-64de-42bb-904d-e31c19953251"
      },
      "execution_count": null,
      "outputs": [
        {
          "output_type": "stream",
          "name": "stdout",
          "text": [
            "Range of Physical Activity (hours/week): 9.0\n",
            "Variance of Physical Activity (hours/week): 6.81453381752458\n",
            "Standard Deviation of Physical Activity (hours/week): 2.6104662069302065\n"
          ]
        }
      ]
    },
    {
      "cell_type": "markdown",
      "source": [
        "### **Q6: Calculate the range, variance, and standard deviation for the \"Fruits/Veg Servings (servings/day)\" column**"
      ],
      "metadata": {
        "id": "G8fQJ2D3jqgt"
      }
    },
    {
      "cell_type": "code",
      "source": [
        "servings_range = df['Fruits/Veg Servings'].max() - df['Fruits/Veg Servings'].min()\n",
        "servings_var = df['Fruits/Veg Servings'].var()\n",
        "servings_std = df['Fruits/Veg Servings'].std()"
      ],
      "metadata": {
        "id": "qvl_4ixEDQCG"
      },
      "execution_count": null,
      "outputs": []
    },
    {
      "cell_type": "code",
      "source": [
        "print(f'Range of Fruits/Veg Servings (servings/day): {servings_range}\\n\\\n",
        "Variance of Fruits/Veg Servings (servings/day): {servings_var}\\n\\\n",
        "Standard Deviation of Fruits/Veg Servings (servings/day): {servings_std}')"
      ],
      "metadata": {
        "colab": {
          "base_uri": "https://localhost:8080/"
        },
        "id": "yfROSZpaDczg",
        "outputId": "29bdb086-7db6-465c-f810-5bf8d119665f"
      },
      "execution_count": null,
      "outputs": [
        {
          "output_type": "stream",
          "name": "stdout",
          "text": [
            "Range of Fruits/Veg Servings (servings/day): 9.0\n",
            "Variance of Fruits/Veg Servings (servings/day): 6.688632274073192\n",
            "Standard Deviation of Fruits/Veg Servings (servings/day): 2.586239021063829\n"
          ]
        }
      ]
    },
    {
      "cell_type": "code",
      "source": [],
      "metadata": {
        "colab": {
          "base_uri": "https://localhost:8080/"
        },
        "id": "KsuW9KSCjuXV",
        "outputId": "ad83feb9-ecf6-4c69-ff6b-81f29a28572d"
      },
      "execution_count": null,
      "outputs": [
        {
          "output_type": "stream",
          "name": "stdout",
          "text": [
            "Range of Fruits/Veg Servings (servings/day): 9.0\n",
            "Variance of Fruits/Veg Servings (servings/day): 6.688632274073192\n",
            "Standard Deviation of Fruits/Veg Servings (servings/day): 2.586239021063829\n"
          ]
        }
      ]
    },
    {
      "cell_type": "markdown",
      "source": [
        "### **Q7: Compute the interquartile range (IQR) for the \"Sleep Quality (score)\" column**"
      ],
      "metadata": {
        "id": "e5C-UR7kjuw1"
      }
    },
    {
      "cell_type": "code",
      "source": [
        "sleep_q1 = df['Sleep Quality'].quantile(0.25)\n",
        "sleep_q3 = df['Sleep Quality'].quantile(0.75)\n",
        "sleep_iqr = sleep_q3 - sleep_q1"
      ],
      "metadata": {
        "id": "xvZHjarADpsZ"
      },
      "execution_count": null,
      "outputs": []
    },
    {
      "cell_type": "code",
      "source": [
        "print(f'Interquartile Range (IQR) of Sleep Quality (score): {sleep_iqr}')"
      ],
      "metadata": {
        "colab": {
          "base_uri": "https://localhost:8080/"
        },
        "id": "Ps_8Xy8GEHWD",
        "outputId": "5f117c0e-2552-4753-8feb-bdd762517c35"
      },
      "execution_count": null,
      "outputs": [
        {
          "output_type": "stream",
          "name": "stdout",
          "text": [
            "Interquartile Range (IQR) of Sleep Quality (score): 5.0\n"
          ]
        }
      ]
    },
    {
      "cell_type": "code",
      "source": [],
      "metadata": {
        "colab": {
          "base_uri": "https://localhost:8080/"
        },
        "id": "6kpMhVZvj44z",
        "outputId": "508b087a-3f39-4fbe-e037-ec577c24cb07"
      },
      "execution_count": null,
      "outputs": [
        {
          "output_type": "stream",
          "name": "stdout",
          "text": [
            "Interquartile Range (IQR) of Sleep Quality (score): 5.0\n"
          ]
        }
      ]
    },
    {
      "cell_type": "markdown",
      "source": [
        "### **Q8: Calculate the coefficient of variation (CV) for the \"Overall Health (score)\" column. Discuss how the CV provides insight into the relative variability of the participants' health assessments compared to their average health score**"
      ],
      "metadata": {
        "id": "79P6TVCTkCnd"
      }
    },
    {
      "cell_type": "code",
      "source": [
        "health_mean = df['Overall Health'].mean()\n",
        "health_std = df['Overall Health'].std()\n",
        "health_coef_var = (health_std / health_mean) * 100"
      ],
      "metadata": {
        "id": "RXLx1PUDENMS"
      },
      "execution_count": null,
      "outputs": []
    },
    {
      "cell_type": "code",
      "source": [
        "print(f'Coefficient of Variation (CV) of Overall Health (score): {health_coef_var}')"
      ],
      "metadata": {
        "colab": {
          "base_uri": "https://localhost:8080/"
        },
        "id": "02mGnAaZEYJU",
        "outputId": "9014fc33-f432-4640-82a2-1d884e2c7a89"
      },
      "execution_count": null,
      "outputs": [
        {
          "output_type": "stream",
          "name": "stdout",
          "text": [
            "Coefficient of Variation (CV) of Overall Health (score): 55.75678807958001\n"
          ]
        }
      ]
    },
    {
      "cell_type": "code",
      "source": [
        "# Insights\n",
        "\n",
        "''' The value of 55% indicates the ratio of std to mean.\n",
        "This means that the std is lower than the mean.\n",
        "The value is relatively low, meaning the values of std are not as dispersed around the mean.\n",
        "This shows that a good amount of participants' [Overall Health] is around the average score & not too far off.\n",
        "'''"
      ],
      "metadata": {
        "id": "asKQ_Iv5FMLf"
      },
      "execution_count": null,
      "outputs": []
    },
    {
      "cell_type": "code",
      "source": [],
      "metadata": {
        "colab": {
          "base_uri": "https://localhost:8080/"
        },
        "id": "Kuvd8PA5kHe6",
        "outputId": "d652237f-56f7-4fb8-a190-11c0351b903c"
      },
      "execution_count": null,
      "outputs": [
        {
          "output_type": "stream",
          "name": "stdout",
          "text": [
            "Coefficient of Variation (CV) of Overall Health (score): 55.75678807958001\n"
          ]
        }
      ]
    },
    {
      "cell_type": "markdown",
      "source": [
        "### **Q9: Evaluate the diversity in the \"Exercise Type Preferred\" column by calculating the frequency of each exercise type and then determining the range between the most and least popular types. Discuss how this range helps in understanding the diversity of exercise preferences among participants**\n"
      ],
      "metadata": {
        "id": "PgKTQNDtjlLT"
      }
    },
    {
      "cell_type": "code",
      "source": [
        "exercise_freq = df['Exercise Type Preferred'].value_counts()\n",
        "exercise_freq"
      ],
      "metadata": {
        "colab": {
          "base_uri": "https://localhost:8080/"
        },
        "id": "Z8RtKeWxGnrU",
        "outputId": "7a9a7361-bc95-4b3c-e07f-e54f1ca825b1"
      },
      "execution_count": null,
      "outputs": [
        {
          "output_type": "execute_result",
          "data": {
            "text/plain": [
              "None                 1354\n",
              "Sports                858\n",
              "Cardio                828\n",
              "Strength Training     779\n",
              "Yoga/Pilates          381\n",
              "Name: Exercise Type Preferred, dtype: int64"
            ]
          },
          "metadata": {},
          "execution_count": 24
        }
      ]
    },
    {
      "cell_type": "code",
      "source": [],
      "metadata": {
        "colab": {
          "base_uri": "https://localhost:8080/"
        },
        "id": "FFqVi-fdk2Aw",
        "outputId": "2f5bcea2-d962-4082-96d3-84998cd1f577"
      },
      "execution_count": null,
      "outputs": [
        {
          "output_type": "execute_result",
          "data": {
            "text/plain": [
              "None                 1354\n",
              "Sports                858\n",
              "Cardio                828\n",
              "Strength Training     779\n",
              "Yoga/Pilates          381\n",
              "Name: Exercise Type Preferred, dtype: int64"
            ]
          },
          "metadata": {},
          "execution_count": 12
        }
      ]
    },
    {
      "cell_type": "code",
      "source": [
        "activity_freq_range = exercise_freq.max() - exercise_freq.min()\n",
        "activity_freq_range"
      ],
      "metadata": {
        "colab": {
          "base_uri": "https://localhost:8080/"
        },
        "id": "vz_BW2K6HAub",
        "outputId": "487adbd4-80eb-4311-83dd-67007f39eac6"
      },
      "execution_count": null,
      "outputs": [
        {
          "output_type": "execute_result",
          "data": {
            "text/plain": [
              "973"
            ]
          },
          "metadata": {},
          "execution_count": 25
        }
      ]
    },
    {
      "cell_type": "code",
      "source": [],
      "metadata": {
        "colab": {
          "base_uri": "https://localhost:8080/"
        },
        "id": "SXf97NMipVSx",
        "outputId": "3e243050-d01b-4bd3-e9f7-5912ad6e00a7"
      },
      "execution_count": null,
      "outputs": [
        {
          "output_type": "execute_result",
          "data": {
            "text/plain": [
              "973"
            ]
          },
          "metadata": {},
          "execution_count": 14
        }
      ]
    },
    {
      "cell_type": "code",
      "source": [
        "# Insights\n",
        "\n",
        "''' The greater the range, the less the diversity.\n",
        "However in our case, the range is quite large, indicating a lower diversity.\n",
        "We can derive that the diversity in [Exercise Type Preferred] is not quite high.\n",
        "There are WAY less people preferring Yoga/Pilates for example over those preferring None.\n",
        "'''"
      ],
      "metadata": {
        "id": "tBy3dIkYHJwL"
      },
      "execution_count": null,
      "outputs": []
    },
    {
      "cell_type": "markdown",
      "source": [
        "### **Q10: Explore the variation in \"Living Area\" types among participants. Discuss how living in different areas (Urban, Suburban, Rural) might contribute to variations in other lifestyle factors like physical activity or dietary habits**\n"
      ],
      "metadata": {
        "id": "FhLkxv4Ak2VN"
      }
    },
    {
      "cell_type": "code",
      "source": [
        "# frequency\n",
        "area_freq = df['Living Area'].value_counts()\n",
        "area_freq"
      ],
      "metadata": {
        "colab": {
          "base_uri": "https://localhost:8080/"
        },
        "id": "hFLtUN0VHpbT",
        "outputId": "1d6ca757-8eee-49b6-db95-c3a822217504"
      },
      "execution_count": null,
      "outputs": [
        {
          "output_type": "execute_result",
          "data": {
            "text/plain": [
              "Rural       1428\n",
              "Urban       1395\n",
              "Suburban    1377\n",
              "Name: Living Area, dtype: int64"
            ]
          },
          "metadata": {},
          "execution_count": 26
        }
      ]
    },
    {
      "cell_type": "code",
      "source": [],
      "metadata": {
        "colab": {
          "base_uri": "https://localhost:8080/"
        },
        "id": "yuQYcJFuk2yB",
        "outputId": "a6e66aa6-4db4-4d1c-b6fd-3325f4ae37ba"
      },
      "execution_count": null,
      "outputs": [
        {
          "output_type": "execute_result",
          "data": {
            "text/plain": [
              "Rural       1428\n",
              "Urban       1395\n",
              "Suburban    1377\n",
              "Name: Living Area, dtype: int64"
            ]
          },
          "metadata": {},
          "execution_count": 16
        }
      ]
    },
    {
      "cell_type": "code",
      "source": [
        "# grouping with physical activity\n",
        "grouped0 = df.groupby('Living Area')['Physical Activity'].mean()\n",
        "print(grouped0)"
      ],
      "metadata": {
        "colab": {
          "base_uri": "https://localhost:8080/"
        },
        "id": "A3sw4KJVH2bb",
        "outputId": "d8b35cd9-cede-4aef-b988-38e6a380095c"
      },
      "execution_count": null,
      "outputs": [
        {
          "output_type": "stream",
          "name": "stdout",
          "text": [
            "Living Area\n",
            "Rural       5.509545\n",
            "Suburban    5.462912\n",
            "Urban       5.453699\n",
            "Name: Physical Activity, dtype: float64\n"
          ]
        }
      ]
    },
    {
      "cell_type": "code",
      "source": [],
      "metadata": {
        "colab": {
          "base_uri": "https://localhost:8080/"
        },
        "id": "-I6VVTN2qNtE",
        "outputId": "f4c78499-3c30-46af-a1a5-d7ae7bb1bc36"
      },
      "execution_count": null,
      "outputs": [
        {
          "output_type": "execute_result",
          "data": {
            "text/plain": [
              "Living Area\n",
              "Rural       5.509545\n",
              "Suburban    5.462912\n",
              "Urban       5.453699\n",
              "Name: Physical Activity, dtype: float64"
            ]
          },
          "metadata": {},
          "execution_count": 18
        }
      ]
    },
    {
      "cell_type": "code",
      "source": [
        "# grouping with diet\n",
        "grouped1 = df.groupby('Living Area')['Fruits/Veg Servings'].mean()\n",
        "grouped1"
      ],
      "metadata": {
        "colab": {
          "base_uri": "https://localhost:8080/"
        },
        "id": "xcP8KZMtIm1v",
        "outputId": "7974b780-c27c-4fd5-cd45-a55556dbbbb8"
      },
      "execution_count": null,
      "outputs": [
        {
          "output_type": "execute_result",
          "data": {
            "text/plain": [
              "Living Area\n",
              "Rural       5.421996\n",
              "Suburban    5.469927\n",
              "Urban       5.387290\n",
              "Name: Fruits/Veg Servings, dtype: float64"
            ]
          },
          "metadata": {},
          "execution_count": 38
        }
      ]
    },
    {
      "cell_type": "code",
      "source": [],
      "metadata": {
        "colab": {
          "base_uri": "https://localhost:8080/"
        },
        "id": "JWRcBpZUqQvX",
        "outputId": "d98d6f0c-1fa9-4366-82df-b630d56af8f3"
      },
      "execution_count": null,
      "outputs": [
        {
          "output_type": "execute_result",
          "data": {
            "text/plain": [
              "Living Area\n",
              "Rural       5.421996\n",
              "Suburban    5.469927\n",
              "Urban       5.387290\n",
              "Name: Fruits/Veg Servings, dtype: float64"
            ]
          },
          "metadata": {},
          "execution_count": 20
        }
      ]
    },
    {
      "cell_type": "code",
      "source": [
        "df.info()"
      ],
      "metadata": {
        "colab": {
          "base_uri": "https://localhost:8080/"
        },
        "id": "tHmVAiq1I-59",
        "outputId": "fac97e14-4e16-40e4-b311-e8f33d7fde66"
      },
      "execution_count": null,
      "outputs": [
        {
          "output_type": "stream",
          "name": "stdout",
          "text": [
            "<class 'pandas.core.frame.DataFrame'>\n",
            "RangeIndex: 4200 entries, 0 to 4199\n",
            "Data columns (total 10 columns):\n",
            " #   Column                   Non-Null Count  Dtype  \n",
            "---  ------                   --------------  -----  \n",
            " 0   Participant ID           4200 non-null   int64  \n",
            " 1   Physical Activity        4200 non-null   float64\n",
            " 2   Fruits/Veg Servings      4200 non-null   float64\n",
            " 3   Sleep Quality            4200 non-null   int64  \n",
            " 4   Stress Level             4200 non-null   int64  \n",
            " 5   Overall Health           4200 non-null   int64  \n",
            " 6   Diet Type                4200 non-null   object \n",
            " 7   Exercise Type Preferred  4200 non-null   object \n",
            " 8   Work Environment         4200 non-null   object \n",
            " 9   Living Area              4200 non-null   object \n",
            "dtypes: float64(2), int64(4), object(4)\n",
            "memory usage: 328.2+ KB\n"
          ]
        }
      ]
    },
    {
      "cell_type": "code",
      "source": [
        "# Insights\n",
        "\n",
        "''' By the viewing the average phys activity & servings per living area,\n",
        "we can deduce the avg living conditions in each of these areas.\n",
        "From the insights we've derived, all 3 [Rual], [Suburban], and [Urban]\n",
        "areas share a similar avg for physical activity AND servings per day.\n",
        "\n",
        "This means that in this specific data set, there seem to be very few\n",
        "factors seperating them from one another as the conditions are indredibly close.\n",
        "\n",
        "This also calls that there is no diversity in the data and there's heavy bias.\n",
        "'''"
      ],
      "metadata": {
        "id": "OwWVGbnvI1dG"
      },
      "execution_count": null,
      "outputs": []
    }
  ]
}